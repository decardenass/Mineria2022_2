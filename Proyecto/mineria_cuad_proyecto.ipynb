{
 "cells": [
  {
   "cell_type": "markdown",
   "metadata": {},
   "source": [
    "# Estandarización de características"
   ]
  }
 ],
 "metadata": {
  "kernelspec": {
   "display_name": "Python 3.9.12 ('base')",
   "language": "python",
   "name": "python3"
  },
  "language_info": {
   "name": "python",
   "version": "3.9.12"
  },
  "orig_nbformat": 4,
  "vscode": {
   "interpreter": {
    "hash": "86bdfa13ed15e3f4f8dc34d601a2dcc2ee9776c02e1a656f7aec8ae67b8a7d1f"
   }
  }
 },
 "nbformat": 4,
 "nbformat_minor": 2
}
