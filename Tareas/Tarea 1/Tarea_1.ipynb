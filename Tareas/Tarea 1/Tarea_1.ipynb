{
 "cells": [
  {
   "cell_type": "markdown",
   "id": "d6681d13-817d-4db9-83b5-4d98037f1397",
   "metadata": {},
   "source": [
    "# Tarea 1. Instalar Anaconda o miniconda."
   ]
  },
  {
   "cell_type": "markdown",
   "id": "fa332b49-a44a-41ee-b81a-c9686f89eb18",
   "metadata": {},
   "source": [
    "Para instalar Anaconda o miniconda, el profesor dará la instrucción correspondiente. Puede revisar el siguiente <a href=\"https://www.youtube.com/watch?v=tXekbwrgxL0&ab_channel=AprendizajeProfundo\" target=\"_blank\">**video**</a> para ir avanzado.\n",
    "1. Una vez instalado cree un ambiente nuevo con conda e instale allí Python Jupyter Lab y Sklearn.\n",
    "2. Cree un repositorio en Github en donde desarrollará su proyecto. Solamente es necesario un repositorio por grupo de trabajo"
   ]
  },
  {
   "cell_type": "markdown",
   "id": "9fcd42dd",
   "metadata": {},
   "source": [
    "### Desarrollo"
   ]
  },
  {
   "cell_type": "markdown",
   "id": "71fd5630",
   "metadata": {},
   "source": [
    "    1. Suba una foto de su computadora mostrando que ya instaló lo requerido."
   ]
  },
  {
   "cell_type": "markdown",
   "id": "f2781f95",
   "metadata": {},
   "source": [
    "<img src=\"https://raw.githubusercontent.com/decardenass/MineriaDeDatos2022_2/main/Tareas/Tarea%201/t1_instalacion_paquetes.png\" title=\"Creación e instalación de paquetes usando conda\">"
   ]
  },
  {
   "cell_type": "markdown",
   "id": "b365f7e5",
   "metadata": {},
   "source": [
    "<img src=\"https://raw.githubusercontent.com/decardenass/MineriaDeDatos2022_2/main/Tareas/Tarea%201/t1_paquetes_instalados.png\" title=\"Paquetes instalados usando conda\">"
   ]
  },
  {
   "cell_type": "markdown",
   "metadata": {},
   "source": [
    "<!---\n",
    "![Esta es una imagen de ejemplo](https://raw.githubusercontent.com/decardenass/MineriaDeDatos2022_2/main/Tareas/Tarea%201/t1_paquetes_instalados.png)\n",
    "-->"
   ]
  },
  {
   "cell_type": "markdown",
   "id": "81b498fc",
   "metadata": {},
   "source": [
    "    2. Cree un cuaderno en Jupyter Lab que incluya títulos contenido Latex, HTML, MArkdown, texto normal y enlaces a al menos una imagen y un video."
   ]
  },
  {
   "cell_type": "markdown",
   "id": "bf45b594",
   "metadata": {},
   "source": [
    "##### **___Título___**\n",
    "# Esto es un título de primer nivel\n",
    "### Esto es un título de tercer nivel  \n",
    "__________________________________________________"
   ]
  },
  {
   "cell_type": "markdown",
   "id": "9b663bd0",
   "metadata": {},
   "source": [
    "##### **___LaTeX___**\n",
    "$\\mathbf{L\\!\\!^{{}_{\\scriptstyle A}} \\!\\!\\!\\!\\!\\;\\; T\\!_{\\displaystyle E} \\! X}$ está escrito en LaTeX. $\\newline$\n",
    "__________________________________________________"
   ]
  },
  {
   "cell_type": "markdown",
   "id": "84805e64",
   "metadata": {},
   "source": [
    "##### **___HTML___** \n",
    "Los enlaces a este <a href=\"https://www.youtube.com/watch?v=tXekbwrgxL0&ab_channel=AprendizajeProfundo\" target=\"_blank\">**video**</a> y a esta <a href=\"https://camo.githubusercontent.com/0911a8857ecb6267b3141863c3e7dbd546794b4496bf2d962fc99d6b6e7d0b9a/68747470733a2f2f7261772e67697468756275736572636f6e74656e742e636f6d2f646563617264656e6173732f4d696e6572696144654461746f73323032325f322f6d61696e2f5461726561732f5461726561253230312f74315f696e7374616c6163696f6e5f70617175657465732e706e67\" target=\"_blank\">**imagen**</a> utilizan los siguientes códigos en HTML\n",
    "\n",
    "    <a href=\"https://www.youtube.com/watch?v=tXekbwrgxL0&ab_channel=AprendizajeProfundo\" target=\"_blank\">**video**</a>\n",
    "    \n",
    "    <a href=\"https://camo.githubusercontent.com/0911a8857ecb6267b3141863c3e7dbd546794b4496bf2d962fc99d6b6e7d0b9a/68747470733a2f2f7261772e67697468756275736572636f6e74656e742e636f6d2f646563617264656e6173732f4d696e6572696144654461746f73323032325f322f6d61696e2f5461726561732f5461726561253230312f74315f696e7374616c6163696f6e5f70617175657465732e706e67\" target=\"_blank\">**imagen**</a>\n",
    "__________________________________________________"
   ]
  },
  {
   "cell_type": "markdown",
   "id": "89188059",
   "metadata": {},
   "source": [
    "##### **___Markdown___** \n",
    "Repositorio Github para la asignatura: https://github.com/decardenass/MineriaDeDatos2022_2\n",
    "__________________________________________________"
   ]
  },
  {
   "cell_type": "markdown",
   "id": "f008b8d1",
   "metadata": {},
   "source": [
    "##### **___Texto normal___**\n",
    "    Esto es texto normal.\n",
    "__________________________________________________"
   ]
  }
 ],
 "metadata": {
  "kernelspec": {
   "display_name": "Python 3.10.5 ('mineria_env')",
   "language": "python",
   "name": "python3"
  },
  "language_info": {
   "codemirror_mode": {
    "name": "ipython",
    "version": 3
   },
   "file_extension": ".py",
   "mimetype": "text/x-python",
   "name": "python",
   "nbconvert_exporter": "python",
   "pygments_lexer": "ipython3",
   "version": "3.10.5"
  },
  "vscode": {
   "interpreter": {
    "hash": "1f258dd24c81e688dc08bd8be36fa6707755469e9abd2bb929410acc60ee3ed2"
   }
  }
 },
 "nbformat": 4,
 "nbformat_minor": 5
}
