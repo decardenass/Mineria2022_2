{
 "cells": [
  {
   "cell_type": "markdown",
   "id": "d6681d13-817d-4db9-83b5-4d98037f1397",
   "metadata": {},
   "source": [
    "# Tarea 1. Instalar Anaconda o miniconda."
   ]
  },
  {
   "cell_type": "markdown",
   "id": "fa332b49-a44a-41ee-b81a-c9686f89eb18",
   "metadata": {},
   "source": [
    "Instalar Anaconda o miniconda"
   ]
  },
  {
   "cell_type": "markdown",
   "id": "9c95ab21-62c0-4a98-9568-2bb698b052ec",
   "metadata": {},
   "source": [
    "1. Una vez instalado cree un ambiente nuevo con conda e instale allí Python Jupyter Lab y Sklearn."
   ]
  },
  {
   "cell_type": "markdown",
   "id": "62e2834d-1af5-4267-a207-2005280c77e9",
   "metadata": {},
   "source": [
    "** Insertar imagenes t1_instalacion_paquetes.png y t1_paquetes_instalados.png **"
   ]
  },
  {
   "cell_type": "markdown",
   "id": "7f2a115c",
   "metadata": {},
   "source": [
    "<img src=\"https://github.com/decardenass/MineriaDeDatos2022_2/blob/main/Tareas/Tarea%201/t1_instalacion_paquetes.png\">"
   ]
  },
  {
   "cell_type": "markdown",
   "id": "b6d7b1f9-7705-48bd-a492-a8632e1f5e46",
   "metadata": {},
   "source": [
    "2. Cree un repositorio en Github en donde desarrollará su proyecto. Solamente es necesario un repositorio por grupo de trabajo"
   ]
  },
  {
   "cell_type": "markdown",
   "id": "d37e8a7d-f785-43e2-8c60-e15511eb5773",
   "metadata": {},
   "source": [
    "https://github.com/decardenass/MineriaDeDatos2022_2"
   ]
  }
 ],
 "metadata": {
  "kernelspec": {
   "display_name": "Python 3.10.5 ('mineria_env')",
   "language": "python",
   "name": "python3"
  },
  "language_info": {
   "codemirror_mode": {
    "name": "ipython",
    "version": 3
   },
   "file_extension": ".py",
   "mimetype": "text/x-python",
   "name": "python",
   "nbconvert_exporter": "python",
   "pygments_lexer": "ipython3",
   "version": "3.10.5"
  },
  "vscode": {
   "interpreter": {
    "hash": "1f258dd24c81e688dc08bd8be36fa6707755469e9abd2bb929410acc60ee3ed2"
   }
  }
 },
 "nbformat": 4,
 "nbformat_minor": 5
}
