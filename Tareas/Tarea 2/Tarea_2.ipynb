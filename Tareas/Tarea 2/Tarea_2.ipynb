{
 "cells": [
  {
   "cell_type": "markdown",
   "metadata": {},
   "source": [
    "# Tarea 2. "
   ]
  },
  {
   "cell_type": "markdown",
   "metadata": {},
   "source": [
    "1. Revise todas las lecciones de programación en Python.\n",
    "2. Escriba un cuaderno que contenga dos ejercicios propuestos y resueltos de colecciones, en los cuales utilice los diferentes métodos asociados a cada tipo de colección.\n",
    "3. Escriba un archivo de excel o csv con la información de cuentas bancarias que contiene la siguiente información: número de cuenta, nombre del cliente, saldo_actual, fecha última transacción. Coloque el archivo en alguna dirección url. Por ejemplo en su repositorio de Github.\n",
    "4 Escriba un cuadernos en donde implemente  una clase  iterable  que haga lo siguiente: \n",
    "a) al inicio abra el archivo y lo suba a un dataframe de Pandas.\n",
    "b) Entregue la información de la siguiente cuenta cuando se le pida el siguiente dato.\n",
    "\n",
    "Pruebe su implementación en el cuaderno.\n",
    "\n",
    "\n",
    "\n",
    "Entregable:\n",
    "\n",
    "Los cuadernos o enlace a su solución renderizada con nbviewer."
   ]
  },
  {
   "cell_type": "markdown",
   "metadata": {},
   "source": [
    "### Desarrollo"
   ]
  },
  {
   "cell_type": "markdown",
   "metadata": {},
   "source": [
    "    1. Ejercicios de colecciones"
   ]
  },
  {
   "cell_type": "markdown",
   "metadata": {},
   "source": [
    "    2. Clase iterable"
   ]
  },
  {
   "cell_type": "code",
   "execution_count": 18,
   "metadata": {},
   "outputs": [],
   "source": [
    "import pandas as pd"
   ]
  },
  {
   "cell_type": "raw",
   "metadata": {},
   "source": [
    "import pandas as pd\n",
    "url = \"https://raw.githubusercontent.com/decardenass/MineriaDeDatos2022_2/main/Tareas/Tarea%202/base_cuentas_2.csv\"\n",
    "datos = pd.read_csv(url)\n",
    "df = pd.DataFrame(datos)\n",
    "print(df)"
   ]
  },
  {
   "cell_type": "code",
   "execution_count": 16,
   "metadata": {},
   "outputs": [],
   "source": [
    "class MiClase_3:\n",
    "    def convertir_archivo(self):\n",
    "        datos = pd.read_csv(url)\n",
    "        df = pd.DataFrame(datos)\n",
    "        return df"
   ]
  },
  {
   "cell_type": "code",
   "execution_count": 17,
   "metadata": {},
   "outputs": [
    {
     "name": "stdout",
     "output_type": "stream",
     "text": [
      "  numero_de_cuenta;nombre_del_cliente;saldo_actual;fecha_ultima_transaccion\n",
      "0            60000001;ALFREDO ARAY;347978;12/03/2022                       \n",
      "1           60000002;ANDREINA LOPEZ;54536;25/02/2022                       \n",
      "2          60000003;ANGEL CUSTODIO;223826;22/10/2022                       \n",
      "3            60000004;LINDA SEGURA;561303;11/07/2022                       \n",
      "4               60000005;ANA BORJA;307243;13/07/2022                       \n",
      "5             60000006;CESAR PARRA;442768;28/10/2022                       \n",
      "6              60000007;JAIRO PINTO;686803;1/12/2022                       \n",
      "7             60000008;NICKY ROMERO;402852;8/03/2022                       \n",
      "8           60000009;DANIEL FERRER;941080;14/08/2022                       \n",
      "9             60000010;PABLO PEREZ;426737;29/01/2022                       \n"
     ]
    }
   ],
   "source": [
    "url = \"https://raw.githubusercontent.com/decardenass/MineriaDeDatos2022_2/main/Tareas/Tarea%202/base_cuentas_2.csv\"\n",
    "miobjeto_3 = MiClase_3.convertir_archivo(url)\n",
    "print(miobjeto_3)"
   ]
  },
  {
   "cell_type": "code",
   "execution_count": 2,
   "metadata": {},
   "outputs": [],
   "source": [
    "class MiClase:\n",
    "    def __init__(self, items):\n",
    "        self.lista = items\n",
    "    def __iter__(self):\n",
    "        return iter(self.lista)"
   ]
  },
  {
   "cell_type": "code",
   "execution_count": 3,
   "metadata": {},
   "outputs": [
    {
     "name": "stdout",
     "output_type": "stream",
     "text": [
      "5\n",
      "4\n",
      "3\n"
     ]
    }
   ],
   "source": [
    "miobjeto = MiClase([5, 4, 3])\n",
    "for item in miobjeto:\n",
    "    print(item)"
   ]
  },
  {
   "cell_type": "code",
   "execution_count": 5,
   "metadata": {},
   "outputs": [],
   "source": [
    "class MiClase_2:\n",
    "    def __init__(self, items):\n",
    "        self.lista = items\n",
    "    def __iter__(self):\n",
    "        return iter(self.lista)\n",
    "    def abrir_archivo(archivo):\n",
    "        url = \"https://raw.githubusercontent.com/decardenass/MineriaDeDatos2022_2/main/Tareas/Tarea%202/base_cuentas_2.csv\"\n",
    "        datos = pd.read_csv(url)\n",
    "        df = pd.DataFrame(datos)\n",
    "        return df   "
   ]
  },
  {
   "cell_type": "code",
   "execution_count": 6,
   "metadata": {},
   "outputs": [
    {
     "name": "stdout",
     "output_type": "stream",
     "text": [
      "numero_de_cuenta;nombre_del_cliente;saldo_actual;fecha_ultima_transaccion\n"
     ]
    }
   ],
   "source": [
    "miobjeto_2 = MiClase_2(datos)\n",
    "for item in miobjeto_2:\n",
    "    print(item)"
   ]
  }
 ],
 "metadata": {
  "kernelspec": {
   "display_name": "Python 3.10.4 ('mineria_env')",
   "language": "python",
   "name": "python3"
  },
  "language_info": {
   "codemirror_mode": {
    "name": "ipython",
    "version": 3
   },
   "file_extension": ".py",
   "mimetype": "text/x-python",
   "name": "python",
   "nbconvert_exporter": "python",
   "pygments_lexer": "ipython3",
   "version": "3.10.4"
  },
  "orig_nbformat": 4,
  "vscode": {
   "interpreter": {
    "hash": "1f258dd24c81e688dc08bd8be36fa6707755469e9abd2bb929410acc60ee3ed2"
   }
  }
 },
 "nbformat": 4,
 "nbformat_minor": 2
}
