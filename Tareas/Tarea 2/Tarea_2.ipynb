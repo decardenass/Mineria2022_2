{
 "cells": [
  {
   "cell_type": "markdown",
   "metadata": {},
   "source": [
    "# Tarea 2. "
   ]
  },
  {
   "cell_type": "markdown",
   "metadata": {},
   "source": [
    "1. Revise todas las lecciones de programación en Python.\n",
    "2. Escriba un cuaderno que contenga dos ejercicios propuestos y resueltos de colecciones, en los cuales utilice los diferentes métodos asociados a cada tipo de colección.\n",
    "3. Escriba un archivo de excel o csv con la información de cuentas bancarias que contiene la siguiente información: número de cuenta, nombre del cliente, saldo_actual, fecha última transacción. Coloque el archivo en alguna dirección url. Por ejemplo en su repositorio de Github.\n",
    "4 Escriba un cuadernos en donde implemente  una clase  iterable  que haga lo siguiente: \n",
    "a) al inicio abra el archivo y lo suba a un dataframe de Pandas.\n",
    "b) Entregue la información de la siguiente cuenta cuando se le pida el siguiente dato.\n",
    "\n",
    "Pruebe su implementación en el cuaderno.\n",
    "\n",
    "\n",
    "\n",
    "Entregable:\n",
    "\n",
    "Los cuadernos o enlace a su solución renderizada con nbviewer."
   ]
  }
 ],
 "metadata": {
  "kernelspec": {
   "display_name": "Python 3.9.12 ('base')",
   "language": "python",
   "name": "python3"
  },
  "language_info": {
   "codemirror_mode": {
    "name": "ipython",
    "version": 3
   },
   "file_extension": ".py",
   "mimetype": "text/x-python",
   "name": "python",
   "nbconvert_exporter": "python",
   "pygments_lexer": "ipython3",
   "version": "3.9.12"
  },
  "orig_nbformat": 4,
  "vscode": {
   "interpreter": {
    "hash": "86bdfa13ed15e3f4f8dc34d601a2dcc2ee9776c02e1a656f7aec8ae67b8a7d1f"
   }
  }
 },
 "nbformat": 4,
 "nbformat_minor": 2
}
