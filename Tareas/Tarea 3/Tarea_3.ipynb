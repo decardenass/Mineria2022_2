{
 "cells": [
  {
   "cell_type": "markdown",
   "metadata": {},
   "source": [
    "# Tarea 3. "
   ]
  },
  {
   "cell_type": "markdown",
   "metadata": {},
   "source": [
    "1. Instale localmente en su computadora SQL o MariaDB"
   ]
  },
  {
   "cell_type": "markdown",
   "metadata": {},
   "source": [
    "<img src=\"https://raw.githubusercontent.com/decardenass/MineriaDeDatos2022_2/main/Tareas/Tarea%203/mariadb_1.png\" title=\"Consola MariaDB\">"
   ]
  },
  {
   "cell_type": "markdown",
   "metadata": {},
   "source": [
    "2. Instale la base de datos salika. Ver enlace abajo y siga las instrucciones del cuaderno de Jupyter lab"
   ]
  },
  {
   "cell_type": "markdown",
   "metadata": {},
   "source": [
    "3. Cree una ambiente de anaconda nuevo, instale Python y Jupyter lab. Agregue la extensión para MariaDB"
   ]
  },
  {
   "cell_type": "markdown",
   "metadata": {},
   "source": [
    "4. Ejecute la guía del enlace, consultado la base directamente desde la consola de MariaDB."
   ]
  },
  {
   "cell_type": "markdown",
   "metadata": {},
   "source": [
    "5. Obtenga el diagrama entidad-relación usando algún designe como Workbench o DBeaver."
   ]
  },
  {
   "cell_type": "markdown",
   "metadata": {},
   "source": [
    "6. Escriba las consultas propuestas en el tutorial deirectamente en la consola y tomo fotos de evidencia del trabajo."
   ]
  },
  {
   "cell_type": "markdown",
   "metadata": {},
   "source": [
    "7. Ejecute las consultas desde Jupyterlab usando la extensión para MariaDB"
   ]
  },
  {
   "cell_type": "markdown",
   "metadata": {},
   "source": [
    "8. Instale sqlalchemy. Siga las instrucciones del cuaderno de Jupyter lab"
   ]
  },
  {
   "cell_type": "markdown",
   "metadata": {},
   "source": [
    "9. Configure al conexión a su base de datos desde Jupyer Lab. Siga las instrucciones del cuaderno de Jupyter lab"
   ]
  },
  {
   "cell_type": "markdown",
   "metadata": {},
   "source": [
    "10. Hagas las consultas de antes, pero ahora súbalas a Pandas. Siga las instrucciones del cuaderno de Jupyter lab1.. Conslusiones."
   ]
  }
 ],
 "metadata": {
  "kernelspec": {
   "display_name": "Python 3.9.12 ('base')",
   "language": "python",
   "name": "python3"
  },
  "language_info": {
   "codemirror_mode": {
    "name": "ipython",
    "version": 3
   },
   "file_extension": ".py",
   "mimetype": "text/x-python",
   "name": "python",
   "nbconvert_exporter": "python",
   "pygments_lexer": "ipython3",
   "version": "3.9.12"
  },
  "orig_nbformat": 4,
  "vscode": {
   "interpreter": {
    "hash": "86bdfa13ed15e3f4f8dc34d601a2dcc2ee9776c02e1a656f7aec8ae67b8a7d1f"
   }
  }
 },
 "nbformat": 4,
 "nbformat_minor": 2
}
